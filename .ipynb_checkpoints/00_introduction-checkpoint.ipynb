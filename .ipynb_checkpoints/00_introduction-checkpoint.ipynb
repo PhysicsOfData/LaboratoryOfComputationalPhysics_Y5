{
 "cells": [
  {
   "cell_type": "markdown",
   "metadata": {},
   "source": [
    "Check online documentation on jupyter [here](http://nbviewer.jupyter.org/urls/bitbucket.org/ipre/calico/raw/master/notebooks/Documentation/Reference%20Guide/Reference%20Guide.ipynb)"
   ]
  },
  {
   "cell_type": "code",
   "execution_count": null,
   "metadata": {},
   "outputs": [],
   "source": [
    "print(\"this is python, programming is fun again\")"
   ]
  },
  {
   "cell_type": "markdown",
   "metadata": {},
   "source": [
    "## Variables"
   ]
  },
  {
   "cell_type": "code",
   "execution_count": null,
   "metadata": {},
   "outputs": [],
   "source": [
    "# This b.t.w is a comment\n",
    "\n",
    "variable = \"2\"\n",
    "print(variable)\n",
    "type(variable)\n",
    "\n"
   ]
  },
  {
   "cell_type": "markdown",
   "metadata": {},
   "source": [
    "the function `print` allows also more powerful way of outputting numbers:"
   ]
  },
  {
   "cell_type": "code",
   "execution_count": null,
   "metadata": {},
   "outputs": [],
   "source": [
    "print(\"Art: %5d, Price per unit: %8.2f\"% (453, 59.058))"
   ]
  },
  {
   "cell_type": "code",
   "execution_count": null,
   "metadata": {},
   "outputs": [],
   "source": [
    "a, b = 5, \"1\"# a python trick to assign values to more than one variable\n",
    "print(a,b)"
   ]
  },
  {
   "cell_type": "markdown",
   "metadata": {},
   "source": [
    "try to sum a and b; if it doesn't work, cast one of the two and repeat"
   ]
  },
  {
   "cell_type": "code",
   "execution_count": null,
   "metadata": {},
   "outputs": [],
   "source": [
    "x = y = z = 7 # multiple assignment\n",
    "print(x, y, z)"
   ]
  },
  {
   "cell_type": "markdown",
   "metadata": {},
   "source": [
    "what if you reassign one of the three (say $y$)?"
   ]
  },
  {
   "cell_type": "code",
   "execution_count": null,
   "metadata": {},
   "outputs": [],
   "source": [
    "# can set values from command line as well (rarely used)\n",
    "x = input(\"set the value of x\")\n",
    "print(x)"
   ]
  },
  {
   "cell_type": "markdown",
   "metadata": {},
   "source": [
    "### Pointers in Python? \n",
    "\n",
    "\n",
    "Pointers are widely used in C and C++. Essentially, they are variables that hold the memory address of another variable.  Are there pointers in python? Essentially no.\n",
    "Pointers go against the [Zen of Python](https://www.python.org/dev/peps/pep-0020/#id3):\n",
    "\n",
    "*Pointers encourage implicit changes rather than explicit. Often, they are complex instead of simple, especially for beginners. Even worse, they beg for ways to shoot yourself in the foot, or do something really dangerous like read from a section of memory you were not supposed to.Python tends to try to abstract away implementation details like memory addresses from its users. Python often focuses on usability instead of speed. As a result, pointers in Python doesn’t really make sense.*\n",
    "\n",
    "\n",
    "It's all about two basics python concepts:\n",
    "1. Mutable vs Immutable objects\n",
    "2. Variable/Name in python\n",
    "\n",
    "Mutable objects can be changed, immutable cannot. I.e. when a new value is assigned to a given immutable \"variable\", a new object is in reality created. This as \"variable\" in python are actually just names bound to objects (PyObject).\n",
    "\n",
    "For more details about all this refer e.g. to [this review](https://realpython.com/pointers-in-python/)"
   ]
  },
  {
   "cell_type": "markdown",
   "metadata": {},
   "source": [
    "## Operators\n",
    "the usual stuff.."
   ]
  },
  {
   "cell_type": "code",
   "execution_count": null,
   "metadata": {},
   "outputs": [],
   "source": [
    "#print(3 / 4)\n",
    "#print(3.0 / 4.0)\n",
    "#print(3 % 4)\n",
    "#print(3 // 4)\n",
    "#print(3**4)\n",
    "#print(pow(3, 4))\n",
    "\n",
    "x = 1\n",
    "print(type(x))\n",
    "y = 1.0\n",
    "print(type(y))\n",
    "#a,b = int(3), int(4)\n",
    "#print(a / b)\n",
    "#print(float(a) / float(b))"
   ]
  },
  {
   "cell_type": "markdown",
   "metadata": {},
   "source": [
    "## Iterators\n",
    "very similar to all other languages. Start exploring the `range` and `enumerate` functions"
   ]
  },
  {
   "cell_type": "code",
   "execution_count": null,
   "metadata": {},
   "outputs": [],
   "source": [
    "for i in range(1,10): print (i)"
   ]
  },
  {
   "cell_type": "code",
   "execution_count": null,
   "metadata": {},
   "outputs": [],
   "source": [
    "i = 1\n",
    "while i < 10:\n",
    "    print(i)\n",
    "    i+=1"
   ]
  },
  {
   "cell_type": "code",
   "execution_count": null,
   "metadata": {},
   "outputs": [],
   "source": [
    "for i, j in enumerate([4,5,2,7]): print(i,j)"
   ]
  },
  {
   "cell_type": "markdown",
   "metadata": {},
   "source": [
    "## Conditional Statements\n",
    "Mind the indentation! "
   ]
  },
  {
   "cell_type": "code",
   "execution_count": null,
   "metadata": {},
   "outputs": [],
   "source": [
    "a = 21\n",
    "if a >= 22: \n",
    "    print(\"if\")\n",
    "elif a >= 21:\n",
    "    print(\"elif\")\n",
    "else:\n",
    "    print(\"else\")"
   ]
  },
  {
   "cell_type": "markdown",
   "metadata": {},
   "source": [
    "try/except: a very important and powerful type of conditional expression, use it and use it with care "
   ]
  },
  {
   "cell_type": "code",
   "execution_count": null,
   "metadata": {},
   "outputs": [],
   "source": [
    "a = 1\n",
    "try:\n",
    "    b = a + 2\n",
    "    print (b)\n",
    "except:\n",
    "    print(a, \" is not a number\")"
   ]
  },
  {
   "cell_type": "markdown",
   "metadata": {},
   "source": [
    "# Functions"
   ]
  },
  {
   "cell_type": "code",
   "execution_count": null,
   "metadata": {},
   "outputs": [],
   "source": [
    "def my_function(a, b = 2):\n",
    "    result = a + 2 * b\n",
    "    return result\n",
    "\n",
    "my_function(3)"
   ]
  },
  {
   "cell_type": "markdown",
   "metadata": {},
   "source": [
    "Notice that the function does not specify the types of the arguments, like you would see in statically typed languages. This is both useful and dangerous. Use the try/except construction to make it safe"
   ]
  },
  {
   "cell_type": "markdown",
   "metadata": {},
   "source": [
    "function can edit \"global\" variables as well, i.e. variables that are declared outside the function scope. To do so the statement ```global``` is used"
   ]
  },
  {
   "cell_type": "code",
   "execution_count": null,
   "metadata": {},
   "outputs": [],
   "source": [
    "x = \"awesome\"\n",
    "\n",
    "def myfunc():\n",
    "  x = \"fantastic\"\n",
    "  print(\"Python is \" + x)\n",
    "\n",
    "myfunc()\n",
    "\n",
    "print(\"Python is \" + x)"
   ]
  },
  {
   "cell_type": "code",
   "execution_count": null,
   "metadata": {},
   "outputs": [],
   "source": [
    "x = \"awesome\"\n",
    "\n",
    "def myfunc():\n",
    "  global x \n",
    "  x = \"fantastic\"\n",
    "\n",
    "myfunc()\n",
    "\n",
    "print(\"Python is \" + x)"
   ]
  },
  {
   "cell_type": "markdown",
   "metadata": {},
   "source": [
    "# Lists, Tuples, Dictionaries"
   ]
  },
  {
   "cell_type": "markdown",
   "metadata": {},
   "source": [
    "## Lists\n",
    "Lists are exactly as the name implies. They are lists of objects. The objects can be any data type (including lists), and it is allowed to mix data types. In this way they are much more flexible than arrays. It is possible to append, delete, insert and count elements and to sort, reverse, etc. the list."
   ]
  },
  {
   "cell_type": "code",
   "execution_count": null,
   "metadata": {},
   "outputs": [],
   "source": [
    "a_list = [1, 2, 3, \"this is a string\", 5.3]\n",
    "b_list = [\"A\", \"B\", \"F\", \"G\", \"d\", \"x\", \"c\", a_list, 3]\n",
    "print(b_list)"
   ]
  },
  {
   "cell_type": "markdown",
   "metadata": {},
   "source": [
    "Manipulations of list is rather intuitive:\n",
    "\n",
    "`list[start:stop:step]`"
   ]
  },
  {
   "cell_type": "code",
   "execution_count": null,
   "metadata": {},
   "outputs": [],
   "source": [
    "a = [7, 5, 3, 4, 10]\n",
    "print(a[0])\n",
    "print(a[-1])\n",
    "print(a[2:4])\n",
    "print(a[:3])\n",
    "print(a[3:])\n",
    "print(a[-3:])\n",
    "print(a[3:len(a)])\n",
    "print(a[1::3])"
   ]
  },
  {
   "cell_type": "markdown",
   "metadata": {},
   "source": [
    "Operations on lists are also straightforward. Note that some of them do not modify the list permanently."
   ]
  },
  {
   "cell_type": "code",
   "execution_count": null,
   "metadata": {},
   "outputs": [],
   "source": [
    "a.insert(0, 0) # position, value\n",
    "print(a)\n",
    "a.append(8)\n",
    "print(a)\n",
    "a.reverse()\n",
    "print(a)\n",
    "a.sort()\n",
    "print(a)\n",
    "a.pop()\n",
    "print(a)\n",
    "a.remove(3) # value\n",
    "print(a)\n",
    "a.remove(a[4])\n",
    "print(a)"
   ]
  },
  {
   "cell_type": "markdown",
   "metadata": {},
   "source": [
    "Very fancy operations are possibile (known as list [comprehensions](https://docs.python.org/2/tutorial/datastructures.html?highlight=comprehensions))"
   ]
  },
  {
   "cell_type": "code",
   "execution_count": null,
   "metadata": {},
   "outputs": [],
   "source": [
    "even_numbers = [x for x in range(20) if x % 2 == 0]\n",
    "print(even_numbers)"
   ]
  },
  {
   "cell_type": "markdown",
   "metadata": {},
   "source": [
    "strings are lists and feature all operations permitted on lists, comprehensions as well"
   ]
  },
  {
   "cell_type": "code",
   "execution_count": null,
   "metadata": {},
   "outputs": [],
   "source": [
    "first_sentence = \"It was a dark and stormy night.\"\n",
    "characters = [x for x in first_sentence]\n",
    "print(characters)"
   ]
  },
  {
   "cell_type": "markdown",
   "metadata": {},
   "source": [
    "the opposite is also possible, but in a different way:"
   ]
  },
  {
   "cell_type": "code",
   "execution_count": null,
   "metadata": {},
   "outputs": [],
   "source": [
    "second_sentence = ''.join(characters)\n",
    "print(second_sentence)"
   ]
  },
  {
   "cell_type": "markdown",
   "metadata": {},
   "source": [
    "### Strings and String Handling\n",
    "One of the most important features of Python is its powerful and easy handling of strings. Defining strings is simple enough in most languages. But in Python, it is easy to search and replace, convert cases, concatenate, or access elements. We’ll discuss a few of these here. For a complete list, see this [tutorial]( http://www.tutorialspoint.com/python/python_strings.htm)"
   ]
  },
  {
   "cell_type": "code",
   "execution_count": null,
   "metadata": {},
   "outputs": [],
   "source": [
    "a = \"A string of characters, with newline \\n CAPITALS, etc.\"\n",
    "print(a)\n",
    "b = 5.0\n",
    "newstring = a + \"\\n We can format strings for printing %.2f\"\n",
    "print(newstring % b)"
   ]
  },
  {
   "cell_type": "markdown",
   "metadata": {},
   "source": [
    "Operations are easy (remember strings are lists!)"
   ]
  },
  {
   "cell_type": "code",
   "execution_count": null,
   "metadata": {},
   "outputs": [],
   "source": [
    "a = \"ABC DEFG\"\n",
    "print(a[1:3])\n",
    "print(a[0:5])"
   ]
  },
  {
   "cell_type": "code",
   "execution_count": null,
   "metadata": {},
   "outputs": [],
   "source": [
    "a = \"ABC defg\"\n",
    "print(a.lower())\n",
    "print(a.upper())\n",
    "print(a.find('d'))\n",
    "print(a.replace('de', 'a'))\n",
    "print(a)\n",
    "b = a.replace('def', 'aaa')\n",
    "print(b)\n",
    "b = b.replace('a', 'c')\n",
    "print(b)\n",
    "b.count('c')"
   ]
  },
  {
   "cell_type": "code",
   "execution_count": null,
   "metadata": {},
   "outputs": [],
   "source": [
    "print(\"ABC defg\".lower())"
   ]
  },
  {
   "cell_type": "markdown",
   "metadata": {},
   "source": [
    "## Tuples\n",
    "Tuples are like lists with one very important difference. Tuples are not changeable."
   ]
  },
  {
   "cell_type": "code",
   "execution_count": null,
   "metadata": {},
   "outputs": [],
   "source": [
    "a = (1, 2, 3, 4)\n",
    "print(a)\n",
    "a[1] = 2"
   ]
  },
  {
   "cell_type": "markdown",
   "metadata": {},
   "source": [
    "## Dictionaries\n",
    "Dictionaries are of paramount importance and a major asset of python.\n",
    "They are unordered, keyed lists. Lists are ordered, and the index may be viewed as a key."
   ]
  },
  {
   "cell_type": "code",
   "execution_count": null,
   "metadata": {},
   "outputs": [],
   "source": [
    "a = {'anItem' : \"A\", 'anotherItem' : [\"a,bc\"], 3 : \"C\", 'afourthItem' : 7} # dictionary example\n",
    "print(a['anItem'])"
   ]
  },
  {
   "cell_type": "code",
   "execution_count": null,
   "metadata": {
    "scrolled": true
   },
   "outputs": [],
   "source": [
    "for i in a: print(i, a[i])"
   ]
  },
  {
   "cell_type": "code",
   "execution_count": null,
   "metadata": {},
   "outputs": [],
   "source": [
    "print(\"Keys:\", a.keys())\n",
    "print(\"Values:\", a.values())"
   ]
  },
  {
   "cell_type": "markdown",
   "metadata": {},
   "source": [
    "## Sets"
   ]
  },
  {
   "cell_type": "markdown",
   "metadata": {},
   "source": [
    "Sets are used to store multiple items in a single variable, but differently from lists and dictionaries, they are unordered and do not support duplicates.\n",
    "In addition you cannot access items in a set by referring to an index or a key, but you can loop through the set items using a for loop, or ask if a specified value is present in a set, by using the in keyword."
   ]
  },
  {
   "cell_type": "code",
   "execution_count": null,
   "metadata": {},
   "outputs": [],
   "source": [
    "a = {\"apple\", 2, \"cherry\", 2}\n",
    "print(a)"
   ]
  },
  {
   "cell_type": "code",
   "execution_count": null,
   "metadata": {},
   "outputs": [],
   "source": [
    "print(a[1])"
   ]
  },
  {
   "cell_type": "code",
   "execution_count": null,
   "metadata": {},
   "outputs": [],
   "source": [
    "for i in a: print(i)"
   ]
  },
  {
   "cell_type": "code",
   "execution_count": null,
   "metadata": {},
   "outputs": [],
   "source": [
    "a.add(\"3\")\n",
    "print(a)\n",
    "a.update({7, \"banana\"})\n",
    "print(a)"
   ]
  },
  {
   "cell_type": "code",
   "execution_count": null,
   "metadata": {},
   "outputs": [],
   "source": []
  }
 ],
 "metadata": {
  "kernelspec": {
   "display_name": "Python 3",
   "language": "python",
   "name": "python3"
  },
  "language_info": {
   "codemirror_mode": {
    "name": "ipython",
    "version": 3
   },
   "file_extension": ".py",
   "mimetype": "text/x-python",
   "name": "python",
   "nbconvert_exporter": "python",
   "pygments_lexer": "ipython3",
   "version": "3.6.8"
  }
 },
 "nbformat": 4,
 "nbformat_minor": 2
}
