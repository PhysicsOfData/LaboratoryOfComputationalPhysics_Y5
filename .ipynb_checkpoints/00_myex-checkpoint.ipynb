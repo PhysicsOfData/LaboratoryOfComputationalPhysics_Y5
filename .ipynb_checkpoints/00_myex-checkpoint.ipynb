{
 "cells": [
  {
   "cell_type": "markdown",
   "metadata": {},
   "source": [
    "1. The MickeyMouse problem\n",
    "\n",
    "a) Write a program that prints the numbers from 1 to 100. But for multiples of 3 print `Mickey` instead of the corresponding number and for the multiples of 5 print `Mouse`. For numbers which are multiples of both three and five print `MickeyMouse`\n",
    "\n",
    "b) Put the result in a tuple and substitute `Mickey` with `Donald` and `Mouse` with `Duck`"
   ]
  },
  {
   "cell_type": "code",
   "execution_count": 35,
   "metadata": {},
   "outputs": [],
   "source": [
    "#a)\n",
    "results = []\n",
    "for i in range(1,101):\n",
    "    if (i%3==0) and (i%5!=0):\n",
    "        r = 'Mickey'\n",
    "    elif (i%5==0) and (i%3!=0):\n",
    "        r = 'Mouse'\n",
    "    elif (i%3==0) and (i%5==0):\n",
    "        r = 'MickeyMouse'\n",
    "    else:\n",
    "        r = i\n",
    "#    print(r)\n",
    "    results += [r]   \n",
    "\n",
    "#b)\n",
    "for j in range(len(results)):\n",
    "    if results[j] == 'Mickey':\n",
    "        results[j] = 'Donald'\n",
    "    elif results[j] == 'Mouse':\n",
    "        results[j] = 'Duck'\n",
    "    elif results[j] == 'MickeyMouse':\n",
    "        results[j] = 'DonaldDuck'\n",
    "results = tuple(results)\n",
    "\n",
    "#results"
   ]
  },
  {
   "cell_type": "markdown",
   "metadata": {},
   "source": [
    "2\\. The swap function\n",
    "\n",
    "Write a function that swap the values of two input variables x and y (whatever the type). Try to do that also without a temporary variable"
   ]
  },
  {
   "cell_type": "code",
   "execution_count": 36,
   "metadata": {},
   "outputs": [
    {
     "name": "stdout",
     "output_type": "stream",
     "text": [
      "(1, 2, 3)\n",
      "ciao\n"
     ]
    }
   ],
   "source": [
    "def swap(a,b):\n",
    "    a,b=b,a\n",
    "    return a,b\n",
    "    \n",
    "a = 'ciao'\n",
    "b = (1,2,3)\n",
    "a,b = swap(a,b)\n",
    "print(a)\n",
    "print(b)"
   ]
  },
  {
   "cell_type": "markdown",
   "metadata": {},
   "source": [
    "3\\. Computing the distance\n",
    "\n",
    "Write a function that calculates and returns the euclidean distance between two points *u* and *v*, where *u* and *v* are both 2-tuples *(x,y)*. For example, if *u=(3,0)* and *v=(0,4)*, the function should return 5"
   ]
  },
  {
   "cell_type": "code",
   "execution_count": 41,
   "metadata": {},
   "outputs": [
    {
     "data": {
      "text/plain": [
       "5.0"
      ]
     },
     "execution_count": 41,
     "metadata": {},
     "output_type": "execute_result"
    }
   ],
   "source": [
    "def distance(u,v):\n",
    "    try:\n",
    "        d = pow((u[0]-v[0])**2 + (u[1]-v[1])**2, 0.5)\n",
    "        return d\n",
    "    except:\n",
    "        print(u, \"is not a 2-tuple or\", v, \"is not a 2-tuple\")\n",
    "\n",
    "u,v = (3,0), (0,4)\n",
    "distance(u,v)"
   ]
  },
  {
   "cell_type": "markdown",
   "metadata": {},
   "source": [
    "4\\. Counting letters\n",
    "\n",
    "Write a program to calculate the number of times each character occurs in a given string *s*. Ignore differneces in capitalization"
   ]
  },
  {
   "cell_type": "code",
   "execution_count": 13,
   "metadata": {},
   "outputs": [
    {
     "data": {
      "text/plain": [
       "3"
      ]
     },
     "execution_count": 13,
     "metadata": {},
     "output_type": "execute_result"
    }
   ],
   "source": [
    "s = 'maMmA'\n",
    "\n",
    "results = {}\n",
    "\n",
    "alphabet = 'qwertyuiopasdfghjklzxcvbnm'\n",
    "alphabet = list(alphabet)\n",
    "\n",
    "s = s.casefold()\n",
    "for c in alphabet:\n",
    "    count = s.count(c)\n",
    "    if count != 0:\n",
    "        results[c] = count\n",
    "    \n",
    "results"
   ]
  },
  {
   "cell_type": "markdown",
   "metadata": {},
   "source": [
    "5\\. Isolating the unique\n",
    "\n",
    "Write a function that determines and count the unique numbers in the list *l*"
   ]
  },
  {
   "cell_type": "code",
   "execution_count": 15,
   "metadata": {},
   "outputs": [],
   "source": [
    "l = [36, 45, 58, 3, 74, 96, 64, 45, 31, 10, 24, 19, 33, 86, 99, 18, 63, 70, 85,\n",
    " 85, 63, 47, 56, 42, 70, 84, 88, 55, 20, 54, 8, 56, 51, 79, 81, 57, 37, 91,\n",
    " 1, 84, 84, 36, 66, 9, 89, 50, 42, 91, 50, 95, 90, 98, 39, 16, 82, 31, 92, 41,\n",
    " 45, 30, 66, 70, 34, 85, 94, 5, 3, 36, 72, 91, 84, 34, 87, 75, 53, 51, 20, 89, 51, 20]"
   ]
  },
  {
   "cell_type": "code",
   "execution_count": 19,
   "metadata": {},
   "outputs": [
    {
     "name": "stdout",
     "output_type": "stream",
     "text": [
      "The unique numbers in l are: [58, 74, 96, 64, 10, 24, 19, 33, 86, 99, 18, 47, 88, 55, 54, 8, 79, 81, 57, 37, 1, 9, 95, 90, 98, 39, 16, 82, 92, 41, 30, 94, 5, 72, 87, 75, 53] which are 37\n"
     ]
    }
   ],
   "source": [
    "def count_unique(a):\n",
    "    uniques = []\n",
    "    for el in a:\n",
    "        if l.count(el) == 1:\n",
    "            uniques += [el]\n",
    "    return uniques, len(uniques)\n",
    "            \n",
    "u,n = count_unique(l)   \n",
    "print('The unique numbers in l are:', u, 'which are', n )         "
   ]
  },
  {
   "cell_type": "markdown",
   "metadata": {},
   "source": [
    "6\\. Combination of functions\n",
    "\n",
    "Write two functions - one that returns the square of a number, and one that returns the cube. Now write a third function that returns the number raised to the 6th power using the two previous functions."
   ]
  },
  {
   "cell_type": "code",
   "execution_count": 20,
   "metadata": {},
   "outputs": [
    {
     "data": {
      "text/plain": [
       "64"
      ]
     },
     "execution_count": 20,
     "metadata": {},
     "output_type": "execute_result"
    }
   ],
   "source": [
    "def square(n):\n",
    "    return n**2\n",
    "\n",
    "def cube(n):\n",
    "    return n**3\n",
    "\n",
    "def sixth_pw(n):\n",
    "    return square(cube(n))\n",
    "\n",
    "sixth_pw(2)"
   ]
  },
  {
   "cell_type": "markdown",
   "metadata": {},
   "source": [
    "7\\. Cubes\n",
    "\n",
    "Create a list of the cubes of x for x in *[0, 10]* using:\n",
    "\n",
    "a) a for loop\n",
    "\n",
    "b) a list comprehension"
   ]
  },
  {
   "cell_type": "code",
   "execution_count": 24,
   "metadata": {},
   "outputs": [
    {
     "name": "stdout",
     "output_type": "stream",
     "text": [
      "[0, 1, 8, 27, 64, 125, 216, 343, 512, 729, 1000]\n",
      "[0, 1, 8, 27, 64, 125, 216, 343, 512, 729, 1000]\n"
     ]
    }
   ],
   "source": [
    "list_1 = []\n",
    "for x in range(11):\n",
    "    list_1 += [x**3]\n",
    "print(list_1)\n",
    "\n",
    "list_2 = [x**3 for x in range(11)]\n",
    "print(list_2)"
   ]
  },
  {
   "cell_type": "markdown",
   "metadata": {},
   "source": [
    "8\\. Nested list comprehension\n",
    "\n",
    "A Pythagorean triple is an integer solution to the Pythagorean theorem $a^2+b^2=c^2$. The first Pythagorean triple is (3,4,5). Find and put in a tuple all unique Pythagorean triples for the positive integers a, b and c less than 100."
   ]
  },
  {
   "cell_type": "code",
   "execution_count": 64,
   "metadata": {},
   "outputs": [
    {
     "data": {
      "text/plain": [
       "((3, 4, 5),\n",
       " (5, 12, 13),\n",
       " (6, 8, 10),\n",
       " (7, 24, 25),\n",
       " (8, 6, 10),\n",
       " (8, 15, 17),\n",
       " (9, 12, 15),\n",
       " (9, 40, 41),\n",
       " (10, 24, 26),\n",
       " (11, 60, 61),\n",
       " (12, 5, 13),\n",
       " (12, 9, 15),\n",
       " (12, 16, 20),\n",
       " (12, 35, 37),\n",
       " (13, 84, 85),\n",
       " (14, 48, 50),\n",
       " (15, 8, 17),\n",
       " (15, 20, 25),\n",
       " (15, 36, 39),\n",
       " (16, 12, 20),\n",
       " (16, 30, 34),\n",
       " (16, 63, 65),\n",
       " (18, 24, 30),\n",
       " (18, 80, 82),\n",
       " (20, 15, 25),\n",
       " (20, 21, 29),\n",
       " (20, 48, 52),\n",
       " (21, 20, 29),\n",
       " (21, 28, 35),\n",
       " (21, 72, 75),\n",
       " (24, 7, 25),\n",
       " (24, 10, 26),\n",
       " (24, 18, 30),\n",
       " (24, 32, 40),\n",
       " (24, 45, 51),\n",
       " (24, 70, 74),\n",
       " (25, 60, 65),\n",
       " (27, 36, 45),\n",
       " (28, 21, 35),\n",
       " (28, 45, 53),\n",
       " (30, 16, 34),\n",
       " (30, 40, 50),\n",
       " (30, 72, 78),\n",
       " (32, 24, 40),\n",
       " (32, 60, 68),\n",
       " (33, 44, 55),\n",
       " (33, 56, 65),\n",
       " (35, 12, 37),\n",
       " (35, 84, 91),\n",
       " (36, 15, 39),\n",
       " (36, 27, 45),\n",
       " (36, 48, 60),\n",
       " (36, 77, 85),\n",
       " (39, 52, 65),\n",
       " (39, 80, 89),\n",
       " (40, 9, 41),\n",
       " (40, 30, 50),\n",
       " (40, 42, 58),\n",
       " (40, 75, 85),\n",
       " (42, 40, 58),\n",
       " (42, 56, 70),\n",
       " (44, 33, 55),\n",
       " (45, 24, 51),\n",
       " (45, 28, 53),\n",
       " (45, 60, 75),\n",
       " (48, 14, 50),\n",
       " (48, 20, 52),\n",
       " (48, 36, 60),\n",
       " (48, 55, 73),\n",
       " (48, 64, 80),\n",
       " (51, 68, 85),\n",
       " (52, 39, 65),\n",
       " (54, 72, 90),\n",
       " (55, 48, 73),\n",
       " (56, 33, 65),\n",
       " (56, 42, 70),\n",
       " (57, 76, 95),\n",
       " (60, 11, 61),\n",
       " (60, 25, 65),\n",
       " (60, 32, 68),\n",
       " (60, 45, 75),\n",
       " (60, 63, 87),\n",
       " (63, 16, 65),\n",
       " (63, 60, 87),\n",
       " (64, 48, 80),\n",
       " (65, 72, 97),\n",
       " (68, 51, 85),\n",
       " (70, 24, 74),\n",
       " (72, 21, 75),\n",
       " (72, 30, 78),\n",
       " (72, 54, 90),\n",
       " (72, 65, 97),\n",
       " (75, 40, 85),\n",
       " (76, 57, 95),\n",
       " (77, 36, 85),\n",
       " (80, 18, 82),\n",
       " (80, 39, 89),\n",
       " (84, 13, 85),\n",
       " (84, 35, 91))"
      ]
     },
     "execution_count": 64,
     "metadata": {},
     "output_type": "execute_result"
    }
   ],
   "source": [
    "triples = []\n",
    "for a in range(3,100):\n",
    "    for b in range(4,100):\n",
    "        for c in range(5,100):\n",
    "            if a**2+b**2-c**2==0:\n",
    "                triples += [(a,b,c)]\n",
    "triples = tuple(triples)\n",
    " \n",
    "triples"
   ]
  },
  {
   "cell_type": "markdown",
   "metadata": {},
   "source": [
    "9\\. Normalization\n",
    "\n",
    "Write a function that takes a tuple of numbers and returns it with the entries normalized to one"
   ]
  },
  {
   "cell_type": "code",
   "execution_count": 45,
   "metadata": {},
   "outputs": [
    {
     "data": {
      "text/plain": [
       "(0.4472135954999579, 0.8944271909999159)"
      ]
     },
     "execution_count": 45,
     "metadata": {},
     "output_type": "execute_result"
    }
   ],
   "source": [
    "def normalization(t):\n",
    "    norm = pow(sum([i**2 for i in t]), 0.5)\n",
    "    t_norm = [i/norm for i in t]\n",
    "    return tuple(t_norm)\n",
    "            \n",
    "normalization((1,2))"
   ]
  }
 ],
 "metadata": {
  "kernelspec": {
   "display_name": "Python 3",
   "language": "python",
   "name": "python3"
  },
  "language_info": {
   "codemirror_mode": {
    "name": "ipython",
    "version": 3
   },
   "file_extension": ".py",
   "mimetype": "text/x-python",
   "name": "python",
   "nbconvert_exporter": "python",
   "pygments_lexer": "ipython3",
   "version": "3.8.2"
  }
 },
 "nbformat": 4,
 "nbformat_minor": 2
}
