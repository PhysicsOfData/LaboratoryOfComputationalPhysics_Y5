{
 "cells": [
  {
   "cell_type": "markdown",
   "metadata": {},
   "source": [
    "1. The MickeyMouse problem\n",
    "\n",
    "a) Write a program that prints the numbers from 1 to 100. But for multiples of 3 print `Mickey` instead of the corresponding number and for the multiples of 5 print `Mouse`. For numbers which are multiples of both three and five print `MickeyMouse`\n",
    "\n",
    "b) Put the result in a tuple and substitute `Mickey` with `Donald` and `Mouse` with `Duck`"
   ]
  },
  {
   "cell_type": "code",
   "execution_count": null,
   "metadata": {},
   "outputs": [],
   "source": [
    "for i in range (1, 100):\n",
    "    if (i%3)==0:\n",
    "        if(i%5)==0:\n",
    "            print(\"MickeyMouse\")\n",
    "        else:\n",
    "            print(\"Mickey\")\n",
    "    elif (i%5)==0:\n",
    "        print(\"Mouse\")\n",
    "    else:\n",
    "        print (i)"
   ]
  },
  {
   "cell_type": "markdown",
   "metadata": {},
   "source": [
    "A tuple cannot be changed"
   ]
  },
  {
   "cell_type": "code",
   "execution_count": null,
   "metadata": {},
   "outputs": [],
   "source": [
    "a=(1,)\n",
    "for i in range (2,100):\n",
    "    if (i%3)==0:\n",
    "        if(i%5)==0:\n",
    "            a=a+(\"MickeyMouse\",)\n",
    "        else:\n",
    "            a=a+(\"Mickey\",)\n",
    "    elif (i%5)==0:\n",
    "        a=a+(\"Mouse\",)\n",
    "    else:\n",
    "        a=a+(i,)\n",
    "print (a)"
   ]
  },
  {
   "cell_type": "markdown",
   "metadata": {},
   "source": [
    "2\\. The swap function\n",
    "\n",
    "Write a function that swap the values of two input variables x and y (whatever the type). Try to do that also without a temporary variable"
   ]
  },
  {
   "cell_type": "code",
   "execution_count": null,
   "metadata": {},
   "outputs": [],
   "source": [
    "def swap(x,y):\n",
    "    t=x\n",
    "    x=y\n",
    "    y=t\n",
    "    return x,y\n",
    "\n",
    "x = input(\"set the value of x\")\n",
    "y = input(\"set the value of y\")\n",
    "x,y=swap(x,y)\n",
    "print (x,y)\n"
   ]
  },
  {
   "cell_type": "code",
   "execution_count": null,
   "metadata": {},
   "outputs": [],
   "source": [
    "def swap(x,y):\n",
    "    return y,x\n",
    "\n",
    "x = input(\"set the value of x \")\n",
    "y = input(\"set the value of y \")\n",
    "x,y=swap(x,y)\n",
    "print (x,y)\n"
   ]
  },
  {
   "cell_type": "markdown",
   "metadata": {},
   "source": [
    "3\\. Computing the distance\n",
    "\n",
    "Write a function that calculates and returns the euclidean distance between two points *u* and *v*, where *u* and *v* are both 2-tuples *(x,y)*. For example, if *u=(3,0)* and *v=(0,4)*, the function should return 5"
   ]
  },
  {
   "cell_type": "code",
   "execution_count": null,
   "metadata": {},
   "outputs": [],
   "source": [
    "def dist (u,v):\n",
    "    x=u[0] ** 2-v[0] ** 2\n",
    "    y=u[1] ** 2-v[1] ** 2\n",
    "    if x<0:\n",
    "        x=-x\n",
    "    if y<0:\n",
    "        y=-y\n",
    "    return (x+y) ** (1/2)\n",
    "\n",
    "u=(3,4)\n",
    "v=(5,6)\n",
    "\n",
    "dist(u,v)\n",
    "\n"
   ]
  },
  {
   "cell_type": "markdown",
   "metadata": {},
   "source": [
    "4\\. Counting letters\n",
    "\n",
    "Write a program to calculate the number of times each character occurs in a given string *s*. Ignore differneces in capitalization"
   ]
  },
  {
   "cell_type": "code",
   "execution_count": null,
   "metadata": {},
   "outputs": [],
   "source": [
    "st = \"Write a program that prints the numbers from 1 to 100. \\\n",
    "But for multiples of three print Mickey instead of the number and for the multiples of five print Mouse. \\\n",
    "For numbers which are multiples of both three and five print MickeyMouse\"\n",
    "st_2=st.lower()\n",
    "\n",
    "#chr(i) gives you the ASCII conversion from decimal to char\n",
    "\n",
    "for i in range (128):\n",
    "    print(chr(i), st_2.count(chr(i)))"
   ]
  },
  {
   "cell_type": "markdown",
   "metadata": {},
   "source": [
    "5\\. Isolating the unique\n",
    "\n",
    "Write a function that determines and count the unique numbers in the list *l*"
   ]
  },
  {
   "cell_type": "code",
   "execution_count": null,
   "metadata": {},
   "outputs": [],
   "source": [
    "l = [36, 45, 58, 3, 74, 96, 64, 45, 31, 10, 24, 19, 33, 86, 99, 18, 63, 70, 85,\n",
    " 85, 63, 47, 56, 42, 70, 84, 88, 55, 20, 54, 8, 56, 51, 79, 81, 57, 37, 91,\n",
    " 1, 84, 84, 36, 66, 9, 89, 50, 42, 91, 50, 95, 90, 98, 39, 16, 82, 31, 92, 41,\n",
    " 45, 30, 66, 70, 34, 85, 94, 5, 3, 36, 72, 91, 84, 34, 87, 75, 53, 51, 20, 89, 51, 20]\n",
    "l.sort()\n",
    "print (l)"
   ]
  },
  {
   "cell_type": "code",
   "execution_count": null,
   "metadata": {},
   "outputs": [],
   "source": [
    "def unique(x):\n",
    "    length=len(x)\n",
    "    x.sort()\n",
    "    n_un=x[0]\n",
    "    un=[]\n",
    "    \n",
    "    #n_un is a number that we use to check if the previous number already came out. We set it to the first element of the list\n",
    "    #when doing the for loop, we check and if we are in the first item of the list, we skip the check n_un==first element of the\n",
    "    #list so that the choice of n_un=x[0] is not arbitrary. For the next number we check if they are equal to the next OR if\n",
    "    #they are equal to the number that we already found. In either cases, we update n_un.\n",
    "    \n",
    "    #If the number is different from both the conditions, we save it in our array. Special care is needed for the last number \n",
    "    #of the list, so we check if i+1 is the last number, we skip the x[i+1] condition and we check just if it is equal\n",
    "    #to the number before. If not, we save it \n",
    "    \n",
    "    for i in range (length):\n",
    "        if (i+1!=length and x[i]==x[i+1]) or (n_un==x[i] and i!=0):\n",
    "            n_un=x[i]\n",
    "        else:\n",
    "            un+=[x[i]]\n",
    "    return un\n",
    "\n",
    "\n",
    "print(unique(l))"
   ]
  },
  {
   "cell_type": "markdown",
   "metadata": {},
   "source": [
    "6\\. Combination of functions\n",
    "\n",
    "Write two functions - one that returns the square of a number, and one that returns the cube. Now write a third function that returns the number raised to the 6th power using the two previous functions."
   ]
  },
  {
   "cell_type": "code",
   "execution_count": null,
   "metadata": {},
   "outputs": [],
   "source": [
    "def square (x):\n",
    "    return x**2\n",
    "def cube (x):\n",
    "    return x**3\n",
    "def sixth(x):\n",
    "    return cube(square(x))\n",
    "\n",
    "x = input(\"set the value of x \")\n",
    "x = int(x)\n",
    "print(sixth(x))\n"
   ]
  },
  {
   "cell_type": "markdown",
   "metadata": {},
   "source": [
    "7\\. Cubes\n",
    "\n",
    "Create a list of the cubes of x for x in *[0, 10]* using:\n",
    "\n",
    "a) a for loop\n",
    "\n",
    "b) a list comprehension"
   ]
  },
  {
   "cell_type": "code",
   "execution_count": null,
   "metadata": {},
   "outputs": [],
   "source": [
    "#for loop \n",
    "def cube (x):\n",
    "    return x**3\n",
    "\n",
    "x=[]\n",
    "for i in range (10):\n",
    "    cubes+=[cube(i)]\n",
    "print (x)"
   ]
  },
  {
   "cell_type": "code",
   "execution_count": null,
   "metadata": {},
   "outputs": [],
   "source": [
    "#list comprehension\n",
    "cubes = [x**3 for x in range(10)]\n",
    "print (cubes)"
   ]
  },
  {
   "cell_type": "markdown",
   "metadata": {},
   "source": [
    "8\\. Nested list comprehension\n",
    "\n",
    "A Pythagorean triple is an integer solution to the Pythagorean theorem $a^2+b^2=c^2$. The first Pythagorean triple is (3,4,5). Find and put in a tuple all unique Pythagorean triples for the positive integers a, b and c less than 100."
   ]
  },
  {
   "cell_type": "code",
   "execution_count": 11,
   "metadata": {},
   "outputs": [
    {
     "name": "stdout",
     "output_type": "stream",
     "text": [
      "((9, 16, 25), (36, 64, 100), (25, 144, 169), (81, 144, 225), (64, 225, 289), (144, 256, 400), (49, 576, 625), (225, 400, 625), (100, 576, 676), (400, 441, 841), (324, 576, 900), (256, 900, 1156), (441, 784, 1225), (144, 1225, 1369), (225, 1296, 1521), (576, 1024, 1600), (81, 1600, 1681), (729, 1296, 2025), (196, 2304, 2500), (900, 1600, 2500), (576, 2025, 2601), (400, 2304, 2704), (784, 2025, 2809), (1089, 1936, 3025), (1600, 1764, 3364), (1296, 2304, 3600), (121, 3600, 3721), (256, 3969, 4225), (625, 3600, 4225), (1089, 3136, 4225), (1521, 2704, 4225), (1024, 3600, 4624), (1764, 3136, 4900), (2304, 3025, 5329), (576, 4900, 5476), (441, 5184, 5625), (2025, 3600, 5625), (900, 5184, 6084), (2304, 4096, 6400), (324, 6400, 6724), (169, 7056, 7225), (1296, 5929, 7225), (1600, 5625, 7225), (2601, 4624, 7225), (3600, 3969, 7569), (1521, 6400, 7921), (2916, 5184, 8100), (1225, 7056, 8281), (3249, 5776, 9025), (4225, 5184, 9409))\n"
     ]
    }
   ],
   "source": [
    "squares = [x**2 for x in range(100)]\n",
    "\n",
    "triple=()\n",
    "\n",
    "for i in range(2,len(squares)):\n",
    "    for j in range(0,i):\n",
    "        for k in range(j+1,i):\n",
    "            if (squares[k]+squares[j]==squares[i]):\n",
    "                triple+=((squares[j],squares[k],squares[i]),)\n",
    "print(triple)\n",
    "\n",
    "\n",
    "                \n",
    "        "
   ]
  },
  {
   "cell_type": "markdown",
   "metadata": {},
   "source": [
    "9\\. Normalization\n",
    "\n",
    "Write a function that takes a tuple of numbers and returns it with the entries normalized to one"
   ]
  },
  {
   "cell_type": "code",
   "execution_count": 20,
   "metadata": {},
   "outputs": [
    {
     "name": "stdout",
     "output_type": "stream",
     "text": [
      "(0.0, 1.0, 0.7816091954022989, 0.6206896551724138, 0.6781609195402298, 0.034482758620689655, 0.9540229885057471, 0.3218390804597701, 0.4942528735632184)\n"
     ]
    }
   ],
   "source": [
    "numbers=(2 ,89,70,56, 61, 5, 85, 30, 45)\n",
    "ma=max(numbers)\n",
    "mi=min(numbers)\n",
    "d=ma-mi\n",
    "normalized=()\n",
    "for i in range(len(numbers)):\n",
    "    normalized+=((numbers[i]-mi)/d,)\n",
    "print (normalized)\n"
   ]
  }
 ],
 "metadata": {
  "kernelspec": {
   "display_name": "Python 3 (ipykernel)",
   "language": "python",
   "name": "python3"
  },
  "language_info": {
   "codemirror_mode": {
    "name": "ipython",
    "version": 3
   },
   "file_extension": ".py",
   "mimetype": "text/x-python",
   "name": "python",
   "nbconvert_exporter": "python",
   "pygments_lexer": "ipython3",
   "version": "3.10.7"
  }
 },
 "nbformat": 4,
 "nbformat_minor": 2
}
